{
 "cells": [
  {
   "cell_type": "code",
   "execution_count": 1,
   "id": "9f6d81b8-11d3-4da3-b719-7d9d37d22b12",
   "metadata": {},
   "outputs": [],
   "source": [
    "import sys, os, copy, time\n",
    "import random\n",
    "import numpy as np\n",
    "import torch\n",
    "HOME_PATH = os.path.expanduser('~')\n",
    "\n",
    "import torch.nn as nn\n",
    "import torch.optim as optim\n",
    "from tqdm import tqdm\n",
    "import matplotlib.pyplot as plt\n",
    "import poisevae\n",
    "from poisevae.datasets import MNIST_MNIST\n",
    "from poisevae.networks.PixelCNN_MNIST import EncMNIST, DecMNIST\n",
    "from poisevae.networks.pixelcnn import PixelCNN"
   ]
  },
  {
   "cell_type": "code",
   "execution_count": 2,
   "id": "cd590c0e-b7a1-4687-9ff9-1b31c3423d2c",
   "metadata": {},
   "outputs": [],
   "source": [
    "MNIST_PATH = os.path.join(HOME_PATH, 'Datasets/MNIST/%s.pt')\n",
    "\n",
    "joint_dataset_train = MNIST_MNIST(mnist_pt_path=MNIST_PATH % 'train')\n",
    "joint_dataset_test = MNIST_MNIST(mnist_pt_path=MNIST_PATH % 'test')"
   ]
  },
  {
   "cell_type": "code",
   "execution_count": 3,
   "id": "unique-eugene",
   "metadata": {},
   "outputs": [
    {
     "data": {
      "text/plain": [
       "(468, 78)"
      ]
     },
     "execution_count": 3,
     "metadata": {},
     "output_type": "execute_result"
    }
   ],
   "source": [
    "batch_size = 128\n",
    "train_loader = torch.utils.data.DataLoader(joint_dataset_train, batch_size=batch_size, shuffle=True, drop_last=True)\n",
    "test_loader = torch.utils.data.DataLoader(joint_dataset_test, batch_size=batch_size, shuffle=True, drop_last=True)\n",
    "len(train_loader), len(test_loader)"
   ]
  },
  {
   "cell_type": "code",
   "execution_count": 4,
   "id": "982b5928-d86f-4df5-a64c-bff9917d4b1d",
   "metadata": {},
   "outputs": [],
   "source": [
    "lat1, lat2 = 20, 20\n",
    "color_level = 2\n",
    "device = 'cuda' if torch.cuda.is_available() else 'cpu'\n",
    "\n",
    "enc_mnist1 = EncMNIST(lat1).to(device)\n",
    "dec_mnist1 = DecMNIST(PixelCNN(lat1, 1, color_level), color_level).to(device)\n",
    "enc_mnist2 = EncMNIST(lat1).to(device)\n",
    "dec_mnist2 = DecMNIST(PixelCNN(lat2, 1, color_level), color_level).to(device)\n",
    "\n",
    "# Options: 'derivative_autograd', 'derivative_gradient', and 'std_normal'\n",
    "vae = poisevae.POISEVAE([enc_mnist1, enc_mnist2], [dec_mnist1, dec_mnist2], latent_dims=[lat1, (lat2)], \n",
    "                        enc_config='nu', KL_calc='std_normal', batch_size=batch_size\n",
    "                       ).to(device)\n",
    "optimizer = optim.Adam(vae.parameters(), lr=1e-3)\n",
    "writer = None"
   ]
  },
  {
   "cell_type": "code",
   "execution_count": 5,
   "id": "5a123db3-7a61-49b8-b2b9-3895bfe7a925",
   "metadata": {},
   "outputs": [],
   "source": [
    "epoch = 0"
   ]
  },
  {
   "cell_type": "code",
   "execution_count": null,
   "id": "29d00bae-2cd5-45a0-9856-f78c62d226bb",
   "metadata": {
    "tags": []
   },
   "outputs": [
    {
     "name": "stderr",
     "output_type": "stream",
     "text": [
      "  0%|                                                                                   | 0/1 [00:00<?, ?it/s]"
     ]
    }
   ],
   "source": [
    "epochs = 1 + epoch\n",
    "for epoch in tqdm(range(epoch, epochs)):\n",
    "    poisevae.utils.train(vae, train_loader, optimizer, epoch, kl_weight=1, n_gibbs_iter=5, writer=writer, \n",
    "                         dec_kwargs={'generate_mode':False})\n",
    "    poisevae.utils.test(vae, test_loader, epoch, kl_weight=1, n_gibbs_iter=5, writer=writer, \n",
    "                        dec_kwargs={'generate_mode':False})\n",
    "    # if (epoch+1) % 10 == 0 and epoch > 0:\n",
    "    #     poisevae.utils.save_checkpoint(vae, optimizer, os.path.join(PATH, 'training_%d.pt' % (epoch+1)), epoch+1) "
   ]
  },
  {
   "cell_type": "markdown",
   "id": "4223dfe5-ec5a-4db6-9441-39080c8d6995",
   "metadata": {
    "tags": []
   },
   "source": [
    "## Reconstruction"
   ]
  },
  {
   "cell_type": "code",
   "execution_count": null,
   "id": "eddedc01-af92-46a3-a021-0b845958b351",
   "metadata": {},
   "outputs": [],
   "source": [
    "with torch.no_grad():\n",
    "    for i, data in enumerate(test_loader):\n",
    "        results = vae([data[0].to(device, dtype=torch.float32), data[0].to(device, dtype=torch.float32)])\n",
    "        break\n",
    "\n",
    "results['x_rec'][0].shape"
   ]
  },
  {
   "cell_type": "code",
   "execution_count": null,
   "id": "3dc64cd8-069f-4171-8e90-8165eaaf0eaf",
   "metadata": {},
   "outputs": [],
   "source": [
    "ncols = min(len(results['x_rec'][0]), 20)\n",
    "fig, ax = plt.subplots(nrows=2, ncols=ncols, figsize=(15, 1.5))\n",
    "for i, aux in enumerate(zip(data[0], results['x_rec'][0])):\n",
    "    if i >= ncols:\n",
    "        break\n",
    "    for j, im in enumerate(aux):\n",
    "        ax[j, i].imshow(im.cpu().numpy().reshape(28, 28), cmap='gray')\n",
    "        ax[j, i].set_axis_off()\n",
    "# ax[1, 0].set_ylabel('Rec', fontsize=24)\n",
    "fig.tight_layout(pad=0)\n",
    "# fig.savefig(PATH + 'MNISTRec.pdf', dpi=300)"
   ]
  },
  {
   "cell_type": "markdown",
   "id": "05b28a73-a1d5-4dea-9c48-d3257bc07900",
   "metadata": {},
   "source": [
    "## Joint Generation"
   ]
  },
  {
   "cell_type": "code",
   "execution_count": null,
   "id": "cd5f05b2-57a9-49f5-b6b2-f868cd06d86e",
   "metadata": {},
   "outputs": [],
   "source": [
    "with torch.no_grad():\n",
    "    results = vae.generate(n_samples=12, dec_kwargs={'generate_mode':True})\n",
    "results['x_rec'][0].shape"
   ]
  },
  {
   "cell_type": "code",
   "execution_count": null,
   "id": "83bae166-8fb3-4a19-a4ee-79e26fb6ef3f",
   "metadata": {},
   "outputs": [],
   "source": [
    "ncols = min(len(results['x_rec'][0]), 20)\n",
    "fig, ax = plt.subplots(nrows=2, ncols=ncols, figsize=(15, 1.5))\n",
    "for i, aux in enumerate(zip(data[0], results['x_rec'][0])):\n",
    "    if i >= ncols:\n",
    "        break\n",
    "    for j, im in enumerate(aux):\n",
    "        ax[j, i].imshow(im.cpu().numpy().reshape(28, 28), cmap='gray')\n",
    "        ax[j, i].set_axis_off()\n",
    "# ax[1, 0].set_ylabel('Rec', fontsize=24)\n",
    "fig.tight_layout(pad=0)\n",
    "# fig.savefig(PATH + 'MNISTRec.pdf', dpi=300)"
   ]
  },
  {
   "cell_type": "code",
   "execution_count": null,
   "id": "f8a115a2-7be5-444b-883d-6c1193411f97",
   "metadata": {},
   "outputs": [],
   "source": [
    "with torch.no_grad():\n",
    "    for i, data in enumerate(test_loader):\n",
    "        results = vae([data[0].to(device, dtype=torch.float32), data[0].to(device, dtype=torch.float32)])#, \n",
    "                      # n_gibbs_iter=30)\n",
    "        break"
   ]
  },
  {
   "cell_type": "code",
   "execution_count": null,
   "id": "218312d4-67fb-49d4-b10e-9a3075e3f12d",
   "metadata": {},
   "outputs": [],
   "source": []
  }
 ],
 "metadata": {
  "kernelspec": {
   "display_name": "Python 3 (ipykernel)",
   "language": "python",
   "name": "python3"
  },
  "language_info": {
   "codemirror_mode": {
    "name": "ipython",
    "version": 3
   },
   "file_extension": ".py",
   "mimetype": "text/x-python",
   "name": "python",
   "nbconvert_exporter": "python",
   "pygments_lexer": "ipython3",
   "version": "3.8.10"
  }
 },
 "nbformat": 4,
 "nbformat_minor": 5
}

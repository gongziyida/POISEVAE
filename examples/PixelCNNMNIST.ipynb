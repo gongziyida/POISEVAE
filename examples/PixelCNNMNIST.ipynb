{
 "cells": [
  {
   "cell_type": "code",
   "execution_count": null,
   "id": "9f6d81b8-11d3-4da3-b719-7d9d37d22b12",
   "metadata": {},
   "outputs": [],
   "source": [
    "import sys, os, copy, time\n",
    "import random\n",
    "import numpy as np\n",
    "import torch\n",
    "HOME_PATH = os.path.expanduser('~')\n",
    "\n",
    "import torch.nn as nn\n",
    "import torch.optim as optim\n",
    "from tensorboardX import SummaryWriter\n",
    "from tqdm import tqdm\n",
    "import matplotlib.pyplot as plt\n",
    "import poisevae\n",
    "from poisevae.datasets import MNIST_MNIST\n",
    "from poisevae.networks.PixelCNN_MNIST import EncMNIST, DecMNIST\n",
    "from poisevae.networks.pixelcnn import PixelCNN"
   ]
  },
  {
   "cell_type": "code",
   "execution_count": null,
   "id": "e1f0ce32-dd46-4c8e-927e-671ac60ef74f",
   "metadata": {},
   "outputs": [],
   "source": [
    "PATH = os.path.join(HOME_PATH, 'vae_project/POISEVAE/examples')"
   ]
  },
  {
   "cell_type": "code",
   "execution_count": null,
   "id": "cd590c0e-b7a1-4687-9ff9-1b31c3423d2c",
   "metadata": {},
   "outputs": [],
   "source": [
    "MNIST_PATH = os.path.join(HOME_PATH, 'Datasets/MNIST/%s.pt')\n",
    "\n",
    "joint_dataset_train = MNIST_MNIST(mnist_pt_path=MNIST_PATH % 'train')\n",
    "joint_dataset_test = MNIST_MNIST(mnist_pt_path=MNIST_PATH % 'test')"
   ]
  },
  {
   "cell_type": "code",
   "execution_count": null,
   "id": "unique-eugene",
   "metadata": {},
   "outputs": [],
   "source": [
    "batch_size = 128\n",
    "train_loader = torch.utils.data.DataLoader(joint_dataset_train, batch_size=batch_size, shuffle=True, drop_last=True)\n",
    "test_loader = torch.utils.data.DataLoader(joint_dataset_test, batch_size=batch_size, shuffle=True, drop_last=True)\n",
    "len(train_loader), len(test_loader)"
   ]
  },
  {
   "cell_type": "code",
   "execution_count": null,
   "id": "982b5928-d86f-4df5-a64c-bff9917d4b1d",
   "metadata": {},
   "outputs": [],
   "source": [
    "lat1, lat2 = 20, 20\n",
    "color_level = 256\n",
    "device = 'cuda' if torch.cuda.is_available() else 'cpu'\n",
    "\n",
    "enc_mnist1 = EncMNIST(lat1).to(device)\n",
    "dec_mnist1 = DecMNIST(PixelCNN(lat1, 1, color_level), color_level).to(device)\n",
    "enc_mnist2 = EncMNIST(lat1).to(device)\n",
    "dec_mnist2 = DecMNIST(PixelCNN(lat2, 1, color_level), color_level).to(device)\n",
    "\n",
    "# Options: 'derivative_autograd', 'derivative_gradient', and 'std_normal'\n",
    "vae = poisevae.POISEVAE([enc_mnist1, enc_mnist2], [dec_mnist1, dec_mnist2], latent_dims=[lat1, (lat2)], \n",
    "                        enc_config='nu', KL_calc='derivative_autograd', batch_size=batch_size\n",
    "                       ).to(device)\n",
    "optimizer = optim.Adam(vae.parameters(), lr=1e-3)\n",
    "# writer = None\n",
    "writer = SummaryWriter(PATH)"
   ]
  },
  {
   "cell_type": "code",
   "execution_count": null,
   "id": "5a123db3-7a61-49b8-b2b9-3895bfe7a925",
   "metadata": {},
   "outputs": [],
   "source": [
    "epoch = 170"
   ]
  },
  {
   "cell_type": "code",
   "execution_count": null,
   "id": "2404b0fe-feb0-4c72-9ac1-5faa72c8b259",
   "metadata": {},
   "outputs": [],
   "source": [
    "vae, _, epoch = poisevae.utils.load_checkpoint(vae, load_path=os.path.join(PATH, 'training_170.pt'))"
   ]
  },
  {
   "cell_type": "code",
   "execution_count": null,
   "id": "29d00bae-2cd5-45a0-9856-f78c62d226bb",
   "metadata": {
    "tags": []
   },
   "outputs": [],
   "source": [
    "epochs = 50 + epoch\n",
    "for epoch in tqdm(range(epoch, epochs)):\n",
    "    poisevae.utils.train(vae, train_loader, optimizer, epoch, kl_weight=1, n_gibbs_iter=5, writer=writer, \n",
    "                         dec_kwargs={'generate_mode':False})\n",
    "    poisevae.utils.test(vae, test_loader, epoch, kl_weight=1, n_gibbs_iter=5, writer=writer, \n",
    "                        dec_kwargs={'generate_mode':False})\n",
    "    if (epoch+1) % 10 == 0 and epoch > 0:\n",
    "        poisevae.utils.save_checkpoint(vae, optimizer, os.path.join(PATH, 'training_%d.pt' % (epoch+1)), epoch+1) "
   ]
  },
  {
   "cell_type": "code",
   "execution_count": null,
   "id": "1a9ed0f0-63d6-454b-813c-5136627241b2",
   "metadata": {},
   "outputs": [],
   "source": [
    "for epoch in (170, 180, 190, 200, 210, 220):\n",
    "    vae, _, epoch = poisevae.utils.load_checkpoint(vae, load_path=os.path.join(PATH, 'training_%d.pt') % epoch)\n",
    "    with torch.no_grad():\n",
    "        for i, data in enumerate(test_loader):\n",
    "            results = vae([data[0].to(device, dtype=torch.float32), data[1].to(device, dtype=torch.float32)], \n",
    "                          dec_kwargs={'generate_mode':False})\n",
    "            print(results['total_loss'].item(), results['KL_loss'], \n",
    "                  results['rec_losses'][0], results['rec_losses'][1], sep='\\t\\t')\n",
    "            break"
   ]
  },
  {
   "cell_type": "markdown",
   "id": "4223dfe5-ec5a-4db6-9441-39080c8d6995",
   "metadata": {
    "tags": []
   },
   "source": [
    "## Reconstruction"
   ]
  },
  {
   "cell_type": "code",
   "execution_count": null,
   "id": "eddedc01-af92-46a3-a021-0b845958b351",
   "metadata": {},
   "outputs": [],
   "source": [
    "with torch.no_grad():\n",
    "    for i, data in enumerate(test_loader):\n",
    "        results = vae([data[0].to(device, dtype=torch.float32), data[1].to(device, dtype=torch.float32)], \n",
    "                      dec_kwargs={'generate_mode':False})\n",
    "        break\n",
    "\n",
    "results['x_rec'][0].shape"
   ]
  },
  {
   "cell_type": "code",
   "execution_count": null,
   "id": "3dc64cd8-069f-4171-8e90-8165eaaf0eaf",
   "metadata": {},
   "outputs": [],
   "source": [
    "ncols = min(len(results['x_rec'][0]), 20)\n",
    "fig, ax = plt.subplots(nrows=2, ncols=ncols, figsize=(15, 1.5))\n",
    "for i, aux in enumerate(zip(data[0], results['x_rec'][0].max(dim=1).indices)):\n",
    "    # for i, aux in enumerate(zip(data[0], results['x_rec'][0][:, 230])):\n",
    "    if i >= ncols:\n",
    "        break\n",
    "    for j, im in enumerate(aux):\n",
    "        ax[j, i].imshow(im.cpu().numpy().reshape(28, 28), cmap='gray')\n",
    "        ax[j, i].set_axis_off()\n",
    "# ax[1, 0].set_ylabel('Rec', fontsize=24)\n",
    "fig.tight_layout(pad=0)\n",
    "# fig.savefig(PATH + 'MNISTRec.pdf', dpi=300)"
   ]
  },
  {
   "cell_type": "markdown",
   "id": "a598289d-e651-4b85-b00b-a52ca295eb7e",
   "metadata": {},
   "source": [
    "## Cross Generation"
   ]
  },
  {
   "cell_type": "code",
   "execution_count": null,
   "id": "ffc2f455-b05e-4520-9249-68c6cdf89527",
   "metadata": {},
   "outputs": [],
   "source": [
    "with torch.no_grad():\n",
    "    for i, data in enumerate(test_loader):\n",
    "        results = vae([data[0].to(device, dtype=torch.float32), None], \n",
    "                      dec_kwargs={'generate_mode':True})\n",
    "        break\n",
    "\n",
    "results['x_rec'][0].shape"
   ]
  },
  {
   "cell_type": "code",
   "execution_count": null,
   "id": "bc35835d-1077-4e99-acc5-070fc7cec15b",
   "metadata": {},
   "outputs": [],
   "source": [
    "ncols = min(len(results['x_rec'][0]), 20)\n",
    "fig, ax = plt.subplots(nrows=2, ncols=ncols, figsize=(15, 1.5))\n",
    "for i, aux in enumerate(zip(data[0], results['x_rec'][1])):\n",
    "# for i, aux in enumerate(zip(data[0], results['x_rec'][1].max(dim=1).indices)):\n",
    "    if i >= ncols:\n",
    "        break\n",
    "    for j, im in enumerate(aux):\n",
    "        ax[j, i].imshow(im.cpu().numpy().reshape(28, 28), cmap='gray')\n",
    "        ax[j, i].set_axis_off()\n",
    "# ax[1, 0].set_ylabel('Rec', fontsize=24)\n",
    "fig.tight_layout(pad=0)\n",
    "# fig.savefig(PATH + 'MNISTRec.pdf', dpi=300)"
   ]
  },
  {
   "cell_type": "code",
   "execution_count": null,
   "id": "5aa6f7ef-707d-42bb-8df5-03266d0dabb1",
   "metadata": {},
   "outputs": [],
   "source": [
    "with torch.no_grad():\n",
    "    for i, data in enumerate(test_loader):\n",
    "        results = vae([None, data[1].to(device, dtype=torch.float32)], \n",
    "                      dec_kwargs={'generate_mode':True})\n",
    "        break\n",
    "\n",
    "results['x_rec'][0].shape"
   ]
  },
  {
   "cell_type": "code",
   "execution_count": null,
   "id": "27bc784b-515f-474a-b261-82ad8e361f35",
   "metadata": {},
   "outputs": [],
   "source": [
    "ncols = min(len(results['x_rec'][0]), 20)\n",
    "fig, ax = plt.subplots(nrows=2, ncols=ncols, figsize=(15, 1.5))\n",
    "for i, aux in enumerate(zip(data[1], results['x_rec'][0])):\n",
    "# for i, aux in enumerate(zip(data[1], results['x_rec'][0].max(dim=1).indices)):\n",
    "    if i >= ncols:\n",
    "        break\n",
    "    for j, im in enumerate(aux):\n",
    "        ax[j, i].imshow(im.cpu().numpy().reshape(28, 28), cmap='gray')\n",
    "        ax[j, i].set_axis_off()\n",
    "# ax[1, 0].set_ylabel('Rec', fontsize=24)\n",
    "fig.tight_layout(pad=0)\n",
    "# fig.savefig(PATH + 'MNISTRec.pdf', dpi=300)"
   ]
  },
  {
   "cell_type": "markdown",
   "id": "05b28a73-a1d5-4dea-9c48-d3257bc07900",
   "metadata": {},
   "source": [
    "## Joint Generation (conditioned)"
   ]
  },
  {
   "cell_type": "code",
   "execution_count": null,
   "id": "8049dfea-9213-410a-adba-05e050aaa566",
   "metadata": {},
   "outputs": [],
   "source": [
    "with torch.no_grad():\n",
    "    for i, data in enumerate(test_loader):\n",
    "        results = vae([data[0].to(device, dtype=torch.float32), data[1].to(device, dtype=torch.float32)], \n",
    "                      dec_kwargs={'generate_mode':True})\n",
    "        break\n",
    "\n",
    "results['x_rec'][0].shape"
   ]
  },
  {
   "cell_type": "code",
   "execution_count": null,
   "id": "dd72e04f-e8d8-4b85-a50b-5f27163b2303",
   "metadata": {},
   "outputs": [],
   "source": [
    "ncols = min(len(results['x_rec'][0]), 20)\n",
    "fig, ax = plt.subplots(nrows=2, ncols=ncols, figsize=(15, 1.5))\n",
    "for i, aux in enumerate(zip(results['x_rec'][0], results['x_rec'][1])):\n",
    "    if i >= ncols:\n",
    "        break\n",
    "    for j, im in enumerate(aux):\n",
    "        ax[j, i].imshow(im.cpu().numpy().reshape(28, 28), cmap='gray')\n",
    "        ax[j, i].set_axis_off()\n",
    "# ax[1, 0].set_ylabel('Rec', fontsize=24)\n",
    "fig.tight_layout(pad=0)\n",
    "# fig.savefig(PATH + 'MNISTRec.pdf', dpi=300)"
   ]
  },
  {
   "cell_type": "markdown",
   "id": "5389405e-5b3b-4568-80f0-c1c95110a136",
   "metadata": {},
   "source": [
    "## Joint Generation (not conditioned)"
   ]
  },
  {
   "cell_type": "code",
   "execution_count": null,
   "id": "cd5f05b2-57a9-49f5-b6b2-f868cd06d86e",
   "metadata": {},
   "outputs": [],
   "source": [
    "with torch.no_grad():\n",
    "    results = vae.generate(n_samples=12, dec_kwargs={'generate_mode':True})\n",
    "results['x_rec'][0].shape"
   ]
  },
  {
   "cell_type": "code",
   "execution_count": null,
   "id": "83bae166-8fb3-4a19-a4ee-79e26fb6ef3f",
   "metadata": {},
   "outputs": [],
   "source": [
    "ncols = min(len(results['x_rec'][0]), 20)\n",
    "fig, ax = plt.subplots(nrows=2, ncols=ncols, figsize=(15, 1.5))\n",
    "for i, aux in enumerate(zip(results['x_rec'][0], results['x_rec'][1])):\n",
    "    if i >= ncols:\n",
    "        break\n",
    "    for j, im in enumerate(aux):\n",
    "        ax[j, i].imshow(im.cpu().numpy().reshape(28, 28), cmap='gray')\n",
    "        ax[j, i].set_axis_off()\n",
    "# ax[1, 0].set_ylabel('Rec', fontsize=24)\n",
    "fig.tight_layout(pad=0)\n",
    "# fig.savefig(PATH + 'MNISTRec.pdf', dpi=300)"
   ]
  },
  {
   "cell_type": "code",
   "execution_count": null,
   "id": "218312d4-67fb-49d4-b10e-9a3075e3f12d",
   "metadata": {},
   "outputs": [],
   "source": []
  }
 ],
 "metadata": {
  "kernelspec": {
   "display_name": "Python 3 (ipykernel)",
   "language": "python",
   "name": "python3"
  },
  "language_info": {
   "codemirror_mode": {
    "name": "ipython",
    "version": 3
   },
   "file_extension": ".py",
   "mimetype": "text/x-python",
   "name": "python",
   "nbconvert_exporter": "python",
   "pygments_lexer": "ipython3",
   "version": "3.8.10"
  }
 },
 "nbformat": 4,
 "nbformat_minor": 5
}

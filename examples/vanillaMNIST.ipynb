{
 "cells": [
  {
   "cell_type": "code",
   "execution_count": 1,
   "id": "9f6d81b8-11d3-4da3-b719-7d9d37d22b12",
   "metadata": {},
   "outputs": [],
   "source": [
    "import sys, os, copy, time\n",
    "import random\n",
    "import numpy as np\n",
    "import torch\n",
    "HOME_PATH = os.path.expanduser('~')\n",
    "\n",
    "import torch.nn as nn\n",
    "import torch.optim as optim\n",
    "from tqdm import tqdm\n",
    "import matplotlib.pyplot as plt\n",
    "import poisevae\n",
    "from poisevae.datasets import MNIST\n",
    "from poisevae.networks.vanilla_MNIST import EncMNIST, DecMNIST"
   ]
  },
  {
   "cell_type": "code",
   "execution_count": 2,
   "id": "cd590c0e-b7a1-4687-9ff9-1b31c3423d2c",
   "metadata": {},
   "outputs": [],
   "source": [
    "MNIST_PATH = os.path.join(HOME_PATH, 'Datasets/MNIST/%s.pt')\n",
    "\n",
    "joint_dataset_train = MNIST(mnist_pt_path=MNIST_PATH % 'train')\n",
    "joint_dataset_test = MNIST(mnist_pt_path=MNIST_PATH % 'test')"
   ]
  },
  {
   "cell_type": "code",
   "execution_count": 3,
   "id": "unique-eugene",
   "metadata": {},
   "outputs": [
    {
     "data": {
      "text/plain": [
       "(468, 78)"
      ]
     },
     "execution_count": 3,
     "metadata": {},
     "output_type": "execute_result"
    }
   ],
   "source": [
    "batch_size = 128\n",
    "train_loader = torch.utils.data.DataLoader(joint_dataset_train, batch_size=batch_size, shuffle=True, drop_last=True)\n",
    "test_loader = torch.utils.data.DataLoader(joint_dataset_test, batch_size=batch_size, shuffle=True, drop_last=True)\n",
    "len(train_loader), len(test_loader)"
   ]
  },
  {
   "cell_type": "code",
   "execution_count": 4,
   "id": "982b5928-d86f-4df5-a64c-bff9917d4b1d",
   "metadata": {},
   "outputs": [],
   "source": [
    "lat1, lat2 = 20, 20\n",
    "device = 'cpu' #'cuda' if torch.cuda.is_available() else 'cpu'\n",
    "\n",
    "enc_mnist1 = EncMNIST(lat1).to(device)\n",
    "dec_mnist1 = DecMNIST(lat1).to(device)\n",
    "enc_mnist2 = EncMNIST(lat1).to(device)\n",
    "dec_mnist2 = DecMNIST(lat2).to(device)\n",
    "\n",
    "# Options: 'derivative_autograd', 'derivative_gradient', and 'std_normal'\n",
    "vae = poisevae.POISEVAE([enc_mnist1, enc_mnist2], [dec_mnist1, dec_mnist2], latent_dims=[lat1, (lat2)], \n",
    "                        enc_config='nu', KL_calc='std_normal', batch_size=batch_size\n",
    "                       ).to(device)\n",
    "optimizer = optim.Adam(vae.parameters(), lr=1e-3)\n",
    "writer = None"
   ]
  },
  {
   "cell_type": "code",
   "execution_count": 13,
   "id": "f8a115a2-7be5-444b-883d-6c1193411f97",
   "metadata": {},
   "outputs": [],
   "source": [
    "# with torch.no_grad():\n",
    "for i, data in enumerate(test_loader):\n",
    "    optimizer.zero_grad()\n",
    "    # with poisevae._debug.Capturing() as output:\n",
    "    results = vae([data[0].to(device, dtype=torch.float32), data[0].to(device, dtype=torch.float32)])#, \n",
    "                  # n_gibbs_iter=30)\n",
    "    results['total_loss'].backward()\n",
    "    optimizer.step()"
   ]
  }
 ],
 "metadata": {
  "kernelspec": {
   "display_name": "Python 3 (ipykernel)",
   "language": "python",
   "name": "python3"
  },
  "language_info": {
   "codemirror_mode": {
    "name": "ipython",
    "version": 3
   },
   "file_extension": ".py",
   "mimetype": "text/x-python",
   "name": "python",
   "nbconvert_exporter": "python",
   "pygments_lexer": "ipython3",
   "version": "3.8.10"
  }
 },
 "nbformat": 4,
 "nbformat_minor": 5
}
